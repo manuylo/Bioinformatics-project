{
 "cells": [
  {
   "cell_type": "code",
   "execution_count": 17,
   "metadata": {},
   "outputs": [],
   "source": [
    "from Bio import SeqIO\n",
    "\n",
    "for seq_record in SeqIO.parse(\"sequence (1).fa\", \"fasta\"):\n",
    "    s=seq_record.seq"
   ]
  },
  {
   "cell_type": "code",
   "execution_count": 18,
   "metadata": {
    "colab": {},
    "colab_type": "code",
    "id": "qS1oHHaOYqaa"
   },
   "outputs": [],
   "source": [
    "#Словарь\n",
    "my_dict = {\n",
    "        'F': ['UUU','UUC'] , 'L':['UUA', 'UUG', 'CUU', 'CUC', 'CUA', 'CUG'], \n",
    "        'I': ['AUU', 'AUC', 'AUA'], 'M':['AUG'], 'V':['GUU', 'GUC', 'GUA', 'GUG'], 'S':['UCU', 'UCC', 'UCA', 'UCG'], 'P':['CCU', 'CCC', 'CCA', 'CCG'], 'T':['ACU', 'ACC', 'ACA', 'ACG'],\n",
    "        'A':['GCU', 'GCC', 'GCA', 'GCG'], 'Y':['UAU', 'UAC'], 'H':['CAU', 'CAC'], 'Q':['CAA', 'CAG'], 'N':['AAU', 'AAC'], 'K':['AAA', 'AAG'], 'D':['GAU','GAC'],\n",
    "        'E':['GAA', 'GAG'], 'C':['UGU', 'UGC'], 'W':['UGG'], 'R':['CGU', 'CGC', 'CGA', 'CGG', 'AGA', 'AGG'], 'S':['AGU','AGC'], 'G':['GGU', 'GGC', 'GGA', 'GGG']\n",
    "      \n",
    "    }\n"
   ]
  },
  {
   "cell_type": "code",
   "execution_count": 19,
   "metadata": {
    "colab": {},
    "colab_type": "code",
    "id": "Yqr7kx7kNNBQ"
   },
   "outputs": [],
   "source": [
    "#Определим число возможных комбинаций\n",
    "c=1\n",
    "for i in range(len(s)):\n",
    "  c = c*len(my_dict[s[i]])\n",
    "#Зададим пустой массив размера числа возможных комбинаций, \n",
    "#чтобы заполнить его всеми возможными комбинациями\n",
    "b = [\"\"] * c\n",
    "#Введем переменные c_ind и rep: c_ind будет отвечать за число повторов кодона в столбце подряд,\n",
    "#которые составят последовательность одинаковых кодонов в столбце таблицы b\n",
    "#rep - за число повторов таких последовательностей в столбце\n",
    "c_ind = c\n",
    "rep = 1 "
   ]
  },
  {
   "cell_type": "code",
   "execution_count": 20,
   "metadata": {
    "colab": {},
    "colab_type": "code",
    "id": "mIxcBe5UIg4s"
   },
   "outputs": [],
   "source": [
    "\n",
    "for i in range(len(s)):\n",
    "    #итерируемся по каждой аминокислоте в последовательности\n",
    "  if s[i] in my_dict:\n",
    "    c_ind = c_ind//len(my_dict[s[i]])\n",
    "    #с_ind будет уменьшаться с каждой новой аминокислотой в число раз, \n",
    "    #равное чсилу кодонов этой аминокислоты, потому что из логики решения\n",
    "    #в таблице решений узел будет повторяться столько раз, \n",
    "    #чтобы все кодоны покрыли прстранство предыдущей подстроки:\n",
    "    #AAAAAA  - c_ind = 6 (транспонированная b)\n",
    "    #BBBCCC  - c_ind = 3\n",
    "    \n",
    "  \n",
    "   \n",
    "    for j in range(len(my_dict[s[i]])):\n",
    "        #итерируемся по всем кодонам i-й аминокислоты, j*c_ind - просто перенос вдоль столбца\n",
    "      for o in range(rep):\n",
    "        #повторяем последовательности одинаковых кодонов вдоль столбца, \n",
    "        #len(my_dict[s[i]])*c_ind - перенос вдоль столбца до пространства под \n",
    "        #следующим кодоном предыдущей подстроки, o - номер соответсвующего переноса\n",
    "        #AABB\n",
    "        #CDCD в данном случае len(my_dict[s[i]])*c_ind = 2*1 = 2, следоательно, \n",
    "        #С повторится через 2 позиции\n",
    "        for a in range(c_ind):#повторяем кодон вдоль столбца с_ind раз\n",
    "         \n",
    "            b[a + j*(c_ind)+o*len(my_dict[s[i]])*c_ind] += my_dict[s[i]][j]\n",
    "            \n",
    "              \n",
    "  rep = rep * len(my_dict[s[i]])  \n",
    "#число повторов определяется числом кодонов "
   ]
  },
  {
   "cell_type": "code",
   "execution_count": 25,
   "metadata": {
    "colab": {
     "base_uri": "https://localhost:8080/",
     "height": 1000
    },
    "colab_type": "code",
    "id": "QZOye8NyAAfK",
    "outputId": "45cb87d4-72f1-41a0-d90c-4fb13f8b858f"
   },
   "outputs": [],
   "source": [
    "with open(\"cDNA_transcript.fa\", \"w+\") as gene:\n",
    "    for i in b:\n",
    "        gene.write(i+'\\n')"
   ]
  }
 ],
 "metadata": {
  "colab": {
   "collapsed_sections": [],
   "name": "task7_m.ipynb",
   "provenance": []
  },
  "kernelspec": {
   "display_name": "Python 3",
   "language": "python",
   "name": "python3"
  },
  "language_info": {
   "codemirror_mode": {
    "name": "ipython",
    "version": 3
   },
   "file_extension": ".py",
   "mimetype": "text/x-python",
   "name": "python",
   "nbconvert_exporter": "python",
   "pygments_lexer": "ipython3",
   "version": "3.7.1"
  }
 },
 "nbformat": 4,
 "nbformat_minor": 1
}
